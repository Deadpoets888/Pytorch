{
  "nbformat": 4,
  "nbformat_minor": 0,
  "metadata": {
    "colab": {
      "provenance": [],
      "authorship_tag": "ABX9TyMh9sfWvP5Z7gxB9asUR9CR",
      "include_colab_link": true
    },
    "kernelspec": {
      "name": "python3",
      "display_name": "Python 3"
    },
    "language_info": {
      "name": "python"
    }
  },
  "cells": [
    {
      "cell_type": "markdown",
      "metadata": {
        "id": "view-in-github",
        "colab_type": "text"
      },
      "source": [
        "<a href=\"https://colab.research.google.com/github/Deadpoets888/Pytorch/blob/main/01_pytorch_workflow.ipynb\" target=\"_parent\"><img src=\"https://colab.research.google.com/assets/colab-badge.svg\" alt=\"Open In Colab\"/></a>"
      ]
    },
    {
      "cell_type": "code",
      "execution_count": 96,
      "metadata": {
        "id": "PjLbom_WI5_X"
      },
      "outputs": [],
      "source": [
        "import torch\n",
        "from torch import nn\n",
        "import matplotlib.pyplot as plt # nn contains all Pytorch's building blocks for neural networks"
      ]
    },
    {
      "cell_type": "code",
      "source": [
        "#cerate known parameters\n",
        "weight = 0.7\n",
        "bias = 0.3\n",
        "\n",
        "X = torch.arange(0, 1, 0.02).unsqueeze(dim = 1) #We use X to represent matrix and y to represent vector\n",
        "y = weight*X + bias\n",
        "\n",
        "X[:10], y[:10]"
      ],
      "metadata": {
        "colab": {
          "base_uri": "https://localhost:8080/"
        },
        "id": "5vlUvqbBYfPq",
        "outputId": "097b0998-3d15-461c-df85-55693d2bdb28"
      },
      "execution_count": 97,
      "outputs": [
        {
          "output_type": "execute_result",
          "data": {
            "text/plain": [
              "(tensor([[0.0000],\n",
              "         [0.0200],\n",
              "         [0.0400],\n",
              "         [0.0600],\n",
              "         [0.0800],\n",
              "         [0.1000],\n",
              "         [0.1200],\n",
              "         [0.1400],\n",
              "         [0.1600],\n",
              "         [0.1800]]),\n",
              " tensor([[0.3000],\n",
              "         [0.3140],\n",
              "         [0.3280],\n",
              "         [0.3420],\n",
              "         [0.3560],\n",
              "         [0.3700],\n",
              "         [0.3840],\n",
              "         [0.3980],\n",
              "         [0.4120],\n",
              "         [0.4260]]))"
            ]
          },
          "metadata": {},
          "execution_count": 97
        }
      ]
    },
    {
      "cell_type": "code",
      "source": [
        "len(X), len(y)"
      ],
      "metadata": {
        "colab": {
          "base_uri": "https://localhost:8080/"
        },
        "id": "rZ44UJT_geVv",
        "outputId": "52b59357-383f-4b9d-e144-c645786c8b0e"
      },
      "execution_count": 98,
      "outputs": [
        {
          "output_type": "execute_result",
          "data": {
            "text/plain": [
              "(50, 50)"
            ]
          },
          "metadata": {},
          "execution_count": 98
        }
      ]
    },
    {
      "cell_type": "markdown",
      "source": [
        "#Splitting data into training and test sets\n",
        "\n",
        "Note: one of the most important concepts in ML\n",
        "\n",
        "Generalization - ability of a ML model to perform well on data it hasn't seen before"
      ],
      "metadata": {
        "id": "rj2u6bnhiCs3"
      }
    },
    {
      "cell_type": "code",
      "source": [
        "#create a train/test split\n",
        "train_split = int(0.8*len(X))\n",
        "X_train, y_train = X[:train_split], y[:train_split]\n",
        "X_test, y_test = X[train_split:], y[train_split:]\n",
        "\n",
        "len(X_train), len(y_train), len(X_test), len(y_test)\n",
        "\n"
      ],
      "metadata": {
        "colab": {
          "base_uri": "https://localhost:8080/"
        },
        "id": "MHI7YeQiinKa",
        "outputId": "e5a6d91a-95ec-4415-a01f-ede617ce7b97"
      },
      "execution_count": 99,
      "outputs": [
        {
          "output_type": "execute_result",
          "data": {
            "text/plain": [
              "(40, 40, 10, 10)"
            ]
          },
          "metadata": {},
          "execution_count": 99
        }
      ]
    },
    {
      "cell_type": "markdown",
      "source": [
        "Visualize the data!!!"
      ],
      "metadata": {
        "id": "sSeAgVb33Dqh"
      }
    },
    {
      "cell_type": "code",
      "source": [
        "def plot_predictions(train_data = X_train,\n",
        "                     train_labels = y_train,\n",
        "                     test_data = X_test,\n",
        "                     test_labels = y_test,\n",
        "                     predictions = None):\n",
        "  plt.figure(figsize = (10, 7))\n",
        "\n",
        "  #plot training data in blue\n",
        "  plt.scatter(train_data, train_labels, c=\"b\", s=5, label = \"Training Data\")\n",
        "\n",
        "  #plot test data in green\n",
        "  plt.scatter(test_data, test_labels, c=\"g\", s=5, label=\"Testing Data\")\n",
        "\n",
        "  #Are there prediictions?\n",
        "  if predictions is not None: #plot the prediction if they exist\n",
        "    plt.scatter(test_data, predictions, c=\"r\", s=5, label=\"Predictions\")\n",
        "\n",
        "  #show the legend\n",
        "  plt.legend(prop={\"size\": 12})\n",
        "\n"
      ],
      "metadata": {
        "id": "YNOR_ZTM3JDk"
      },
      "execution_count": 100,
      "outputs": []
    },
    {
      "cell_type": "code",
      "source": [
        "plot_predictions()"
      ],
      "metadata": {
        "colab": {
          "base_uri": "https://localhost:8080/",
          "height": 599
        },
        "id": "JVXRjSlt5W2N",
        "outputId": "323c8865-9b2d-44a1-a457-442a6ebaa0d8"
      },
      "execution_count": 101,
      "outputs": [
        {
          "output_type": "display_data",
          "data": {
            "text/plain": [
              "<Figure size 1000x700 with 1 Axes>"
            ],
            "image/png": "[encoded data removed]"
          },
          "metadata": {}
        }
      ]
    },
    {
      "cell_type": "markdown",
      "source": [
        "#Build Model\n",
        "\n",
        "What the below model do:\n",
        "\n",
        "-> It starts with random values(weight $ bias)\n",
        "\n",
        "-> Look at training data and adjust the random values to better represent(or get closer to) the ideal values(the weight & and the bias values)\n",
        "\n",
        "How does it do?\n",
        "\n",
        "Through two main Algorithms\n",
        "\n",
        "1.Gradient descent\n",
        "\n",
        "2.backpropagation"
      ],
      "metadata": {
        "id": "5jYj_LSU8CwO"
      }
    },
    {
      "cell_type": "code",
      "source": [
        "from torch import nn\n",
        "\n",
        "#Create linear regression model class\n",
        "class LinearRegressionmodel(nn.Module):\n",
        "  def __init__(self):\n",
        "    super().__init__()\n",
        "    self.weights = nn.Parameter(torch.randn(1, #start with a random weight and try to adjust it to the ideal weight\n",
        "                                            requires_grad = True,\n",
        "                                            dtype = torch.float))\n",
        "    self.bias = nn.Parameter(torch.randn(1,\n",
        "                                         requires_grad = True,\n",
        "                                         dtype = torch.float))\n",
        "    #requires_grad -> keep track of gradient of different parameters\n",
        "\n",
        "  #Forward method to define the computation in the model\n",
        "  def forward(self, x: torch.Tensor) -> torch.Tensor:\n",
        "    return self.weights* x + self.bias #this is linear regression formula\n",
        "\n"
      ],
      "metadata": {
        "id": "p5MbMJmJ8Hv2"
      },
      "execution_count": 102,
      "outputs": []
    },
    {
      "cell_type": "code",
      "source": [
        "#So, Module is part of torch.nn and is used as a base class for defining custom models in PyTorch.\n",
        "# A subclass of nn.Module is any class that inherits from torch.nn.Module and extends its functionality. This is how we create custom neural network architectures in PyTorch.\n",
        "#every subclass of nn.Module must override the forward method because PyTorch uses it to define how inputs flow through the network."
      ],
      "metadata": {
        "id": "VCXKc8LA5R78"
      },
      "execution_count": 103,
      "outputs": []
    },
    {
      "cell_type": "markdown",
      "source": [
        "#Pytorch model building essentials\n",
        "\n",
        "* torch.nn - contains all of the building for computational graphs(a NN can be considered computational graph)\n",
        "* torch.nn.Parameter - what parameters should our model try and learn, often a Pytorch layer from torch.nn will set these for us\n",
        "* torch.nn.Module - the base class for all neural network modules, if you subclass it, you should overwrite forward()\n",
        "* torch.optim - this is where the optimizers in Pytorch live, they will help with gradient descent\n",
        "* def forward() - All nn.Module subclasses require you to overwrite forward(), this method defines what happens in the forward computation"
      ],
      "metadata": {
        "id": "yYoGBDFvcKCy"
      }
    },
    {
      "cell_type": "markdown",
      "source": [
        "#Checking the contents of our Pytorch model\n",
        "\n",
        "Now we've created a model,let's see what's inside.......\n",
        "So we can check our  model parameters or wat's inside our model using .parameters()\n",
        "\n",
        "Note:\n",
        "\n",
        "torch.randn(6) #-> generates 6 random values\n",
        "\n",
        "torch.manual_seed(2051) #-> it makes randn to print same values every time\n",
        "\n",
        "torch.randn(6)"
      ],
      "metadata": {
        "id": "gVwUtJcJi6KT"
      }
    },
    {
      "cell_type": "code",
      "source": [
        "#create a model seed\n",
        "torch.manual_seed(50)\n",
        "\n",
        "#create an instance of the model (this is a subclass of nn.Module)\n",
        "model_0 = LinearRegressionmodel()\n",
        "\n",
        "#check out the parameters\n",
        "#model_0.parameters() -> it generaters address\n",
        "list(model_0.parameters())"
      ],
      "metadata": {
        "colab": {
          "base_uri": "https://localhost:8080/"
        },
        "id": "TRzWmeytky33",
        "outputId": "47e88fa6-eb8d-47a7-e40f-000daec0c091"
      },
      "execution_count": 104,
      "outputs": [
        {
          "output_type": "execute_result",
          "data": {
            "text/plain": [
              "[Parameter containing:\n",
              " tensor([0.4625], requires_grad=True),\n",
              " Parameter containing:\n",
              " tensor([-0.1692], requires_grad=True)]"
            ]
          },
          "metadata": {},
          "execution_count": 104
        }
      ]
    },
    {
      "cell_type": "code",
      "source": [
        "#List named parameters\n",
        "model_0.state_dict()"
      ],
      "metadata": {
        "colab": {
          "base_uri": "https://localhost:8080/"
        },
        "id": "5VSjKZaMnr10",
        "outputId": "4d083344-a26c-4798-9568-e6d09e2a37aa"
      },
      "execution_count": 105,
      "outputs": [
        {
          "output_type": "execute_result",
          "data": {
            "text/plain": [
              "OrderedDict([('weights', tensor([0.4625])), ('bias', tensor([-0.1692]))])"
            ]
          },
          "metadata": {},
          "execution_count": 105
        }
      ]
    },
    {
      "cell_type": "code",
      "source": [
        "weight, bias #these are ideal values and we need to move the above random value to ideal values as close as possible(through gradient descent and backpropagation)\n",
        "#And in most cases you will not know what ideal values are\n",
        "\n",
        "#the premise of deep learning is to start with random values and make them more representative closer to ideal values"
      ],
      "metadata": {
        "colab": {
          "base_uri": "https://localhost:8080/"
        },
        "id": "unAn1Ex-pZUr",
        "outputId": "43a6369c-6a10-4dc4-b892-559b058c7f8b"
      },
      "execution_count": 106,
      "outputs": [
        {
          "output_type": "execute_result",
          "data": {
            "text/plain": [
              "(0.7, 0.3)"
            ]
          },
          "metadata": {},
          "execution_count": 106
        }
      ]
    },
    {
      "cell_type": "markdown",
      "source": [
        "#Making prediction using `torch.inference_mode()`\n",
        "\n",
        "To check our model's predictive power, let's see how well it predicts `y_test` based on `X_test`\n",
        "\n",
        "When we pass data through our model, it's going to run it through the `forward()` method\n",
        "\n",
        "Note: what an ideal model do here is that it will take `X_test` as input and return `y_test` as output exactly"
      ],
      "metadata": {
        "id": "MiOixRljpfMf"
      }
    },
    {
      "cell_type": "code",
      "source": [
        "y_prediction = model_0(X_test)\n",
        "\n",
        "y_prediction"
      ],
      "metadata": {
        "colab": {
          "base_uri": "https://localhost:8080/"
        },
        "id": "BzPjLtne2DT1",
        "outputId": "51aee5ef-2b73-496c-f6d1-530143513a56"
      },
      "execution_count": 107,
      "outputs": [
        {
          "output_type": "execute_result",
          "data": {
            "text/plain": [
              "tensor([[0.2008],\n",
              "        [0.2100],\n",
              "        [0.2193],\n",
              "        [0.2285],\n",
              "        [0.2378],\n",
              "        [0.2470],\n",
              "        [0.2563],\n",
              "        [0.2655],\n",
              "        [0.2748],\n",
              "        [0.2840]], grad_fn=<AddBackward0>)"
            ]
          },
          "metadata": {},
          "execution_count": 107
        }
      ]
    },
    {
      "cell_type": "code",
      "source": [
        "#Let's make predictions with model\n",
        "with torch.inference_mode(): # it turns of gradient tracking\n",
        "  y_prediction = model_0(X_test)\n",
        "\n",
        "#you can do something similar with torch.no_grad(), however, torch.inference_mode id prefered\n",
        "# with torch.no_grad():\n",
        "  # y_prediction = model_0(X_test)\n",
        "\n",
        "y_prediction\n",
        "\n",
        "#here pytorch behind the scene is keepinf  track of less data it means with larger dataset predictions will be lot faster"
      ],
      "metadata": {
        "colab": {
          "base_uri": "https://localhost:8080/"
        },
        "id": "0BWWYx1fwUbB",
        "outputId": "ac57b7f9-571d-49f0-d738-3e4baf69140d"
      },
      "execution_count": 108,
      "outputs": [
        {
          "output_type": "execute_result",
          "data": {
            "text/plain": [
              "tensor([[0.2008],\n",
              "        [0.2100],\n",
              "        [0.2193],\n",
              "        [0.2285],\n",
              "        [0.2378],\n",
              "        [0.2470],\n",
              "        [0.2563],\n",
              "        [0.2655],\n",
              "        [0.2748],\n",
              "        [0.2840]])"
            ]
          },
          "metadata": {},
          "execution_count": 108
        }
      ]
    },
    {
      "cell_type": "code",
      "source": [
        "y_test"
      ],
      "metadata": {
        "colab": {
          "base_uri": "https://localhost:8080/"
        },
        "id": "QTgzra58xc4Z",
        "outputId": "e0451680-a421-4e64-b924-cabc6bdff23f"
      },
      "execution_count": 109,
      "outputs": [
        {
          "output_type": "execute_result",
          "data": {
            "text/plain": [
              "tensor([[0.8600],\n",
              "        [0.8740],\n",
              "        [0.8880],\n",
              "        [0.9020],\n",
              "        [0.9160],\n",
              "        [0.9300],\n",
              "        [0.9440],\n",
              "        [0.9580],\n",
              "        [0.9720],\n",
              "        [0.9860]])"
            ]
          },
          "metadata": {},
          "execution_count": 109
        }
      ]
    },
    {
      "cell_type": "code",
      "source": [
        "plot_predictions(predictions = y_prediction)"
      ],
      "metadata": {
        "colab": {
          "base_uri": "https://localhost:8080/",
          "height": 599
        },
        "id": "21nT19S31Qio",
        "outputId": "3071acd3-047e-4953-cad2-7ee481b386ab"
      },
      "execution_count": 110,
      "outputs": [
        {
          "output_type": "display_data",
          "data": {
            "text/plain": [
              "<Figure size 1000x700 with 1 Axes>"
            ],
            "image/png": "[encoded data removed]"
          },
          "metadata": {}
        }
      ]
    },
    {
      "cell_type": "markdown",
      "source": [
        "#Train model\n",
        "\n",
        "THe whole idea of training us for a model to move from some unknown parameters(these may be random) to some known nn.parameter\n",
        "\n",
        "Or in other words from a poor represention of the data to a better representation of the data\n",
        "\n",
        "One way to measure how poor or wrong your models predictions are is to use a loss function.\n",
        "\n",
        "* Note: Loss function may also be called cost function or criterion in different areas. For our case, we're going to refer to it as a loss function.\n",
        "\n",
        "Things we need to train:\n",
        "\n",
        "* **Loss function** - A function to measure how wrong your model's predictions are to the ideal outputs, lower is better.\n",
        "\n",
        "* **Optimizer** - Takes into account the loss of a model and adjusts the model's parameters(eg., weight and bias in our case) to improve the loss function.\n",
        "\n",
        "  * Inside the optimizer you'll often have to set two parameters\n",
        "\n",
        "    * `params` - the model parameters you'd like to optimize, for example parama = model_0.parameters()\n",
        "\n",
        "    * `lr`(learning rate) - the learning rate is a hyperparameter that defines how big/small the optimizer changes the parameters with with each step(a small lr result in small changes and vice versa)\n",
        "\n",
        "And specifically for Pytorch, we need:\n",
        "\n",
        "*Training Loop\n",
        "\n",
        "*Testing Loop"
      ],
      "metadata": {
        "id": "xC-t3YD_1gvc"
      }
    },
    {
      "cell_type": "code",
      "source": [
        "#set up a loss fucntion\n",
        "loss_fn = nn.L1Loss()\n",
        "\n",
        "#Setup an optimizer (stochastic gradient descent)\n",
        "optimizer = torch.optim.SGD(params=model_0.parameters(),\n",
        "                            lr= 0.01) #learning rate possibly is the most important hyperparameter you can set\n",
        "\n",
        "#the more the learning rate the more the change in the parameter and vice versa"
      ],
      "metadata": {
        "id": "oq333K6K6bvu"
      },
      "execution_count": 111,
      "outputs": []
    },
    {
      "cell_type": "code",
      "source": [
        "# Hyperparameter - we set it\n",
        "#parameter - model set itself"
      ],
      "metadata": {
        "id": "UkkuzMZnPa98"
      },
      "execution_count": 112,
      "outputs": []
    },
    {
      "cell_type": "markdown",
      "source": [
        "#Building a training loop(and a testing loop) in Pytorch\n",
        "\n",
        "A couple of things we need in a training loop\n",
        "\n",
        "0. Loop through the data\n",
        "1. Forward pass(this involves data moving through our model's `forward()` functions) to make predictions on data -  also called forward propagation\n",
        "2. Calculate the loss(compare forward pass predictions to ground truth labels)\n",
        "3. optimizer zero grad\n",
        "4.Loss backward - move backwards through the network to calculate the gradients of each parameters of our model with respect to the loss (**backpropagation**)\n",
        "5. optimiazer step - use the optimizer to adjust our model's parameters to try and improve the loss(**gradient descent**)"
      ],
      "metadata": {
        "id": "wnTwfJ-ipGA7"
      }
    },
    {
      "cell_type": "code",
      "source": [
        "#An epoch is one loop through the data...(this is a hyperparameter because we'se it ourself)\n",
        "epochs = 20\n",
        "###training\n",
        "#0. Loop through the data\n",
        "for epoch in range(epochs):\n",
        "  #Set the model to training mode(this is default state of a model())\n",
        "  model_0.train() #train mode in pytorch sets all parameters that require gradients to require gradients\n",
        "\n",
        "  #1. Forward pass\n",
        "  y_prediction = model_0(X_train)\n",
        "\n",
        "  #2. Calculate the loss\n",
        "  loss = loss_fn(y_prediction, y_train)\n",
        "  print(\"Loss\", loss)\n",
        "\n",
        "  #3. Optimizer zero grad\n",
        "  optimizer.zero_grad()\n",
        "\n",
        "  #4. perform backpropagation on the loss with respect to the parameters of the model\n",
        "  loss.backward()\n",
        "\n",
        "  #5. Step the optmizer(perform gradient descent)\n",
        "  optimizer.step() #by default how the optimizer changes will accumulate through the loop so... we have to zero them above in step 3 for the next iteration of the loop\n",
        "  #it uses the gradient(computed by loss.backword()) to update parameters and update rule depends on optimizer\n",
        "\n",
        "  #model_0.eval() #turn off gradient tracking"
      ],
      "metadata": {
        "colab": {
          "base_uri": "https://localhost:8080/"
        },
        "id": "iL7GZ46prwep",
        "outputId": "0a2e6f7b-b5a6-46a9-9fa2-61efe111634b"
      },
      "execution_count": 134,
      "outputs": [
        {
          "output_type": "stream",
          "name": "stdout",
          "text": [
            "Loss tensor(0.4236, grad_fn=<MeanBackward0>)\n",
            "Loss tensor(0.4121, grad_fn=<MeanBackward0>)\n",
            "Loss tensor(0.4006, grad_fn=<MeanBackward0>)\n",
            "Loss tensor(0.3890, grad_fn=<MeanBackward0>)\n",
            "Loss tensor(0.3775, grad_fn=<MeanBackward0>)\n",
            "Loss tensor(0.3660, grad_fn=<MeanBackward0>)\n",
            "Loss tensor(0.3545, grad_fn=<MeanBackward0>)\n",
            "Loss tensor(0.3429, grad_fn=<MeanBackward0>)\n",
            "Loss tensor(0.3314, grad_fn=<MeanBackward0>)\n",
            "Loss tensor(0.3199, grad_fn=<MeanBackward0>)\n",
            "Loss tensor(0.3084, grad_fn=<MeanBackward0>)\n",
            "Loss tensor(0.2969, grad_fn=<MeanBackward0>)\n",
            "Loss tensor(0.2853, grad_fn=<MeanBackward0>)\n",
            "Loss tensor(0.2738, grad_fn=<MeanBackward0>)\n",
            "Loss tensor(0.2623, grad_fn=<MeanBackward0>)\n",
            "Loss tensor(0.2508, grad_fn=<MeanBackward0>)\n",
            "Loss tensor(0.2393, grad_fn=<MeanBackward0>)\n",
            "Loss tensor(0.2277, grad_fn=<MeanBackward0>)\n",
            "Loss tensor(0.2162, grad_fn=<MeanBackward0>)\n",
            "Loss tensor(0.2047, grad_fn=<MeanBackward0>)\n"
          ]
        }
      ]
    },
    {
      "cell_type": "code",
      "source": [
        "#Value of loss have been going down"
      ],
      "metadata": {
        "id": "6vQOMmfB7no2"
      },
      "execution_count": 114,
      "outputs": []
    },
    {
      "cell_type": "code",
      "source": [
        "model_0.state_dict()"
      ],
      "metadata": {
        "colab": {
          "base_uri": "https://localhost:8080/"
        },
        "id": "zN1H9sVt4N4n",
        "outputId": "c80530df-f559-4d16-dcee-59acc704e757"
      },
      "execution_count": 126,
      "outputs": [
        {
          "output_type": "execute_result",
          "data": {
            "text/plain": [
              "OrderedDict([('weights', tensor([0.4898])), ('bias', tensor([-0.0992]))])"
            ]
          },
          "metadata": {},
          "execution_count": 126
        }
      ]
    },
    {
      "cell_type": "code",
      "source": [
        "#Learning rate scheduling\n",
        "#point of convergence - where loss function's value is minimumc"
      ],
      "metadata": {
        "id": "TDgmgB3h4LNE"
      },
      "execution_count": 116,
      "outputs": []
    },
    {
      "cell_type": "code",
      "source": [
        "#plot_predictions(predictions = y_prediction) When I'm trying to run this code here, it is  giving me error"
      ],
      "metadata": {
        "id": "0v0zZ59Y-gQR"
      },
      "execution_count": 139,
      "outputs": []
    },
    {
      "cell_type": "code",
      "source": [
        "with torch.inference_mode():\n",
        "  y_prediction_new =model_0(X_test)"
      ],
      "metadata": {
        "id": "wkpl1E-n7-t_"
      },
      "execution_count": 137,
      "outputs": []
    },
    {
      "cell_type": "code",
      "source": [
        "plot_predictions(predictions=y_prediction_new);"
      ],
      "metadata": {
        "colab": {
          "base_uri": "https://localhost:8080/",
          "height": 599
        },
        "id": "RIZiwLXj9P09",
        "outputId": "62fb6698-24a9-42c8-b758-49adb63eaec7"
      },
      "execution_count": 138,
      "outputs": [
        {
          "output_type": "display_data",
          "data": {
            "text/plain": [
              "<Figure size 1000x700 with 1 Axes>"
            ],
            "image/png": "[encoded data removed]"
          },
          "metadata": {}
        }
      ]
    },
    {
      "cell_type": "code",
      "source": [],
      "metadata": {
        "id": "FtvCB3un9Ybb"
      },
      "execution_count": null,
      "outputs": []
    }
  ]
}