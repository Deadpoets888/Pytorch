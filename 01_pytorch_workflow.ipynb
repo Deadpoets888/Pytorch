{
  "nbformat": 4,
  "nbformat_minor": 0,
  "metadata": {
    "colab": {
      "provenance": [],
      "authorship_tag": "ABX9TyM6A1F/C6HMhtVD/u3eCGtU",
      "include_colab_link": true
    },
    "kernelspec": {
      "name": "python3",
      "display_name": "Python 3"
    },
    "language_info": {
      "name": "python"
    }
  },
  "cells": [
    {
      "cell_type": "markdown",
      "metadata": {
        "id": "view-in-github",
        "colab_type": "text"
      },
      "source": [
        "<a href=\"https://colab.research.google.com/github/Deadpoets888/Pytorch/blob/main/01_pytorch_workflow.ipynb\" target=\"_parent\"><img src=\"https://colab.research.google.com/assets/colab-badge.svg\" alt=\"Open In Colab\"/></a>"
      ]
    },
    {
      "cell_type": "code",
      "execution_count": 2,
      "metadata": {
        "id": "PjLbom_WI5_X"
      },
      "outputs": [],
      "source": [
        "import torch\n",
        "from torch import nn\n",
        "import matplotlib.pyplot as plt # nn contains all Pytorch's building blocks for neural networks"
      ]
    },
    {
      "cell_type": "code",
      "source": [
        "#cerate known parameters\n",
        "weight = 0.7\n",
        "bias = 0.3\n",
        "\n",
        "X = torch.arange(0, 1, 0.02).unsqueeze(dim = 1) #We use X to represent matrix and y to represent vector\n",
        "y = weight*X + bias\n",
        "\n",
        "X[:10], y[:10]"
      ],
      "metadata": {
        "colab": {
          "base_uri": "https://localhost:8080/"
        },
        "id": "5vlUvqbBYfPq",
        "outputId": "7cc43556-02a4-4ea9-9753-0056d075de42"
      },
      "execution_count": 3,
      "outputs": [
        {
          "output_type": "execute_result",
          "data": {
            "text/plain": [
              "(tensor([[0.0000],\n",
              "         [0.0200],\n",
              "         [0.0400],\n",
              "         [0.0600],\n",
              "         [0.0800],\n",
              "         [0.1000],\n",
              "         [0.1200],\n",
              "         [0.1400],\n",
              "         [0.1600],\n",
              "         [0.1800]]),\n",
              " tensor([[0.3000],\n",
              "         [0.3140],\n",
              "         [0.3280],\n",
              "         [0.3420],\n",
              "         [0.3560],\n",
              "         [0.3700],\n",
              "         [0.3840],\n",
              "         [0.3980],\n",
              "         [0.4120],\n",
              "         [0.4260]]))"
            ]
          },
          "metadata": {},
          "execution_count": 3
        }
      ]
    },
    {
      "cell_type": "code",
      "source": [
        "len(X), len(y)"
      ],
      "metadata": {
        "colab": {
          "base_uri": "https://localhost:8080/"
        },
        "id": "rZ44UJT_geVv",
        "outputId": "2f57b257-09c2-4965-8d4a-46475e83ed7f"
      },
      "execution_count": 4,
      "outputs": [
        {
          "output_type": "execute_result",
          "data": {
            "text/plain": [
              "(50, 50)"
            ]
          },
          "metadata": {},
          "execution_count": 4
        }
      ]
    },
    {
      "cell_type": "markdown",
      "source": [
        "#Splitting data into training and test sets\n",
        "\n",
        "Note: one of the most important concepts in ML\n",
        "\n",
        "Generalization - ability of a ML model to perform well on data it hasn't seen before"
      ],
      "metadata": {
        "id": "rj2u6bnhiCs3"
      }
    },
    {
      "cell_type": "code",
      "source": [
        "#create a train/test split\n",
        "train_split = int(0.8*len(X))\n",
        "X_train, y_train = X[:train_split], y[:train_split]\n",
        "X_test, y_test = X[train_split:], y[train_split:]\n",
        "\n",
        "len(X_train), len(y_train), len(X_test), len(y_test)\n",
        "\n"
      ],
      "metadata": {
        "colab": {
          "base_uri": "https://localhost:8080/"
        },
        "id": "MHI7YeQiinKa",
        "outputId": "056f6603-a12a-4498-8dda-e94e87d62184"
      },
      "execution_count": 5,
      "outputs": [
        {
          "output_type": "execute_result",
          "data": {
            "text/plain": [
              "(40, 40, 10, 10)"
            ]
          },
          "metadata": {},
          "execution_count": 5
        }
      ]
    },
    {
      "cell_type": "markdown",
      "source": [
        "Visualize the data!!!"
      ],
      "metadata": {
        "id": "sSeAgVb33Dqh"
      }
    },
    {
      "cell_type": "code",
      "source": [
        "def plot_predictions(train_data = X_train,\n",
        "                     train_labels = y_train,\n",
        "                     test_data = X_test,\n",
        "                     test_labels = y_test,\n",
        "                     predictions = None):\n",
        "  plt.figure(figsize = (10, 7))\n",
        "\n",
        "  #plot training data in blue\n",
        "  plt.scatter(train_data, train_labels, c=\"b\", s=5, label = \"Training Data\")\n",
        "\n",
        "  #plot test data in green\n",
        "  plt.scatter(test_data, test_labels, c=\"g\", s=5, label=\"Testing Data\")\n",
        "\n",
        "  #Are there prediictions?\n",
        "  if predictions is not None: #plot the prediction if they exist\n",
        "    plt.scatter(test_data, predictions, c=\"r\", s=5, label=\"Predictions\")\n",
        "\n",
        "  #show the legend\n",
        "  plt.legend(prop={\"size\": 12})\n",
        "\n"
      ],
      "metadata": {
        "id": "YNOR_ZTM3JDk"
      },
      "execution_count": 6,
      "outputs": []
    },
    {
      "cell_type": "code",
      "source": [
        "plot_predictions()"
      ],
      "metadata": {
        "colab": {
          "base_uri": "https://localhost:8080/",
          "height": 471
        },
        "id": "JVXRjSlt5W2N",
        "outputId": "27386da1-23ab-4280-bfdd-0fd80e214ebb"
      },
      "execution_count": 7,
      "outputs": [
        {
          "output_type": "display_data",
          "data": {
            "text/plain": [
              "<Figure size 1000x700 with 1 Axes>"
            ],
            "image/png": "[encoded data removed]"
          },
          "metadata": {}
        }
      ]
    },
    {
      "cell_type": "markdown",
      "source": [
        "#Build Model\n",
        "\n",
        "What the below model do:\n",
        "\n",
        "-> It starts with random values(weight $ bias)\n",
        "\n",
        "-> Look at training data and adjust the random values to better represent(or get closer to) the ideal values(the weight & and the bias values)\n",
        "\n",
        "How does it do?\n",
        "\n",
        "Through two main Algorithms\n",
        "\n",
        "1.Gradient descent\n",
        "\n",
        "2.backpropagation"
      ],
      "metadata": {
        "id": "5jYj_LSU8CwO"
      }
    },
    {
      "cell_type": "code",
      "source": [
        "from torch import nn\n",
        "\n",
        "#Create linear regression model class\n",
        "class LinearRegressionmodel(nn.Module):\n",
        "  def __init__(self):\n",
        "    super().__init__()\n",
        "    self.weights = nn.Parameter(torch.randn(1, #start with a random weight and try to adjust it to the ideal weight\n",
        "                                            requires_grad = True,\n",
        "                                            dtype = torch.float))\n",
        "    self.bias = nn.Parameter(torch.randn(1,\n",
        "                                         requires_grad = True,\n",
        "                                         dtype = torch.float))\n",
        "    #requires_grad -> keep track of gradient of different parameters\n",
        "\n",
        "  #Forward method to define the computation in the model\n",
        "  def forward(self, x: torch.Tensor) -> torch.Tensor:\n",
        "    return self.weights* x + self.bias #this is linear regression formula\n",
        "\n"
      ],
      "metadata": {
        "id": "p5MbMJmJ8Hv2"
      },
      "execution_count": 43,
      "outputs": []
    },
    {
      "cell_type": "code",
      "source": [
        "#So, Module is part of torch.nn and is used as a base class for defining custom models in PyTorch.\n",
        "# A subclass of nn.Module is any class that inherits from torch.nn.Module and extends its functionality. This is how we create custom neural network architectures in PyTorch.\n",
        "#every subclass of nn.Module must override the forward method because PyTorch uses it to define how inputs flow through the network."
      ],
      "metadata": {
        "id": "VCXKc8LA5R78"
      },
      "execution_count": 9,
      "outputs": []
    },
    {
      "cell_type": "markdown",
      "source": [
        "#Pytorch model building essentials\n",
        "\n",
        "* torch.nn - contains all of the building for computational graphs(a NN can be considered computational graph)\n",
        "* torch.nn.Parameter - what parameters should our model try and learn, often a Pytorch layer from torch.nn will set these for us\n",
        "* torch.nn.Module - the base class for all neural network modules, if you subclass it, you should overwrite forward()\n",
        "* torch.optim - this is where the optimizers in Pytorch live, they will help with gradient descent\n",
        "* def forward() - All nn.Module subclasses require you to overwrite forward(), this method defines what happens in the forward computation"
      ],
      "metadata": {
        "id": "yYoGBDFvcKCy"
      }
    },
    {
      "cell_type": "markdown",
      "source": [
        "#Checking the contents of our Pytorch model\n",
        "\n",
        "Now we've created a model,let's see what's inside.......\n",
        "So we can check our  model parameters or wat's inside our model using .parameters()\n",
        "\n",
        "Note:\n",
        "\n",
        "torch.randn(6) #-> generates 6 random values\n",
        "\n",
        "torch.manual_seed(2051) #-> it makes randn to print same values every time\n",
        "\n",
        "torch.randn(6)"
      ],
      "metadata": {
        "id": "gVwUtJcJi6KT"
      }
    },
    {
      "cell_type": "code",
      "source": [
        "#create a model seed\n",
        "torch.manual_seed(50)\n",
        "\n",
        "#create an instance of the model (this is a subclass of nn.Module)\n",
        "model_0 = LinearRegressionmodel()\n",
        "\n",
        "#check out the parameters\n",
        "#model_0.parameters() -> it generaters address\n",
        "list(model_0.parameters())"
      ],
      "metadata": {
        "colab": {
          "base_uri": "https://localhost:8080/"
        },
        "id": "TRzWmeytky33",
        "outputId": "af6e56b9-2c25-4da2-af35-2cc0d66b3bdc"
      },
      "execution_count": 46,
      "outputs": [
        {
          "output_type": "execute_result",
          "data": {
            "text/plain": [
              "[Parameter containing:\n",
              " tensor([0.4625], requires_grad=True),\n",
              " Parameter containing:\n",
              " tensor([-0.1692], requires_grad=True)]"
            ]
          },
          "metadata": {},
          "execution_count": 46
        }
      ]
    },
    {
      "cell_type": "code",
      "source": [
        "#List named parameters\n",
        "model_0.state_dict()"
      ],
      "metadata": {
        "colab": {
          "base_uri": "https://localhost:8080/"
        },
        "id": "5VSjKZaMnr10",
        "outputId": "1c168ea8-c466-4981-e257-9038fa833b94"
      },
      "execution_count": 47,
      "outputs": [
        {
          "output_type": "execute_result",
          "data": {
            "text/plain": [
              "OrderedDict([('weights', tensor([0.4625])), ('bias', tensor([-0.1692]))])"
            ]
          },
          "metadata": {},
          "execution_count": 47
        }
      ]
    },
    {
      "cell_type": "code",
      "source": [
        "weight, bias #these are ideal values and we need to move the above random value to ideal values as close as possible(through gradient descent and backpropagation)\n",
        "#And in most cases you will not know what ideal values are\n",
        "\n",
        "#the premise of deep learning is to start with random values and make them more representative closer to ideal values"
      ],
      "metadata": {
        "colab": {
          "base_uri": "https://localhost:8080/"
        },
        "id": "unAn1Ex-pZUr",
        "outputId": "89afcc58-e30d-428c-de66-3a1607e1ce51"
      },
      "execution_count": 38,
      "outputs": [
        {
          "output_type": "execute_result",
          "data": {
            "text/plain": [
              "(0.7, 0.3)"
            ]
          },
          "metadata": {},
          "execution_count": 38
        }
      ]
    },
    {
      "cell_type": "markdown",
      "source": [
        "#Making prediction using `torch.inference_mode()`\n",
        "\n",
        "To check our model's predictive power, let's see how well it predicts `y_test` based on `X_test`\n",
        "\n",
        "When we pass data through our model, it's going to run it through the `forward()` method\n",
        "\n",
        "Note: what an ideal model do here is that it will take `X_test` as input and return `y_test` as output exactly"
      ],
      "metadata": {
        "id": "MiOixRljpfMf"
      }
    },
    {
      "cell_type": "code",
      "source": [
        "y_prediction = model_0(X_test)\n",
        "\n",
        "y_prediction"
      ],
      "metadata": {
        "colab": {
          "base_uri": "https://localhost:8080/"
        },
        "id": "BzPjLtne2DT1",
        "outputId": "30b46a52-cb17-4a7a-ae16-d8ff3a9e2c5e"
      },
      "execution_count": 55,
      "outputs": [
        {
          "output_type": "execute_result",
          "data": {
            "text/plain": [
              "tensor([[0.2008],\n",
              "        [0.2100],\n",
              "        [0.2193],\n",
              "        [0.2285],\n",
              "        [0.2378],\n",
              "        [0.2470],\n",
              "        [0.2563],\n",
              "        [0.2655],\n",
              "        [0.2748],\n",
              "        [0.2840]], grad_fn=<AddBackward0>)"
            ]
          },
          "metadata": {},
          "execution_count": 55
        }
      ]
    },
    {
      "cell_type": "code",
      "source": [
        "#Let's make predictions with model\n",
        "with torch.inference_mode(): # it turns of gradient tracking\n",
        "  y_prediction = model_0(X_test)\n",
        "\n",
        "#you can do something similar with torch.no_grad(), however, torch.inference_mode id prefered\n",
        "# with torch.no_grad():\n",
        "  # y_prediction = model_0(X_test)\n",
        "\n",
        "y_prediction\n",
        "\n",
        "#here pytorch behind the scene is keepinf  track of less data it means with larger dataset predictions will be lot faster"
      ],
      "metadata": {
        "colab": {
          "base_uri": "https://localhost:8080/"
        },
        "id": "0BWWYx1fwUbB",
        "outputId": "6baa8a4c-432a-4c07-f7fb-1cd3c496a507"
      },
      "execution_count": 56,
      "outputs": [
        {
          "output_type": "execute_result",
          "data": {
            "text/plain": [
              "tensor([[0.2008],\n",
              "        [0.2100],\n",
              "        [0.2193],\n",
              "        [0.2285],\n",
              "        [0.2378],\n",
              "        [0.2470],\n",
              "        [0.2563],\n",
              "        [0.2655],\n",
              "        [0.2748],\n",
              "        [0.2840]])"
            ]
          },
          "metadata": {},
          "execution_count": 56
        }
      ]
    },
    {
      "cell_type": "code",
      "source": [
        "y_test"
      ],
      "metadata": {
        "colab": {
          "base_uri": "https://localhost:8080/"
        },
        "id": "QTgzra58xc4Z",
        "outputId": "71202398-c74e-4989-b9ee-addd82ac8d23"
      },
      "execution_count": 50,
      "outputs": [
        {
          "output_type": "execute_result",
          "data": {
            "text/plain": [
              "tensor([[0.8600],\n",
              "        [0.8740],\n",
              "        [0.8880],\n",
              "        [0.9020],\n",
              "        [0.9160],\n",
              "        [0.9300],\n",
              "        [0.9440],\n",
              "        [0.9580],\n",
              "        [0.9720],\n",
              "        [0.9860]])"
            ]
          },
          "metadata": {},
          "execution_count": 50
        }
      ]
    },
    {
      "cell_type": "code",
      "source": [
        "plot_predictions(predictions = y_prediction)"
      ],
      "metadata": {
        "colab": {
          "base_uri": "https://localhost:8080/",
          "height": 471
        },
        "id": "21nT19S31Qio",
        "outputId": "e9233c80-2110-4597-8ec9-77b83e1a4162"
      },
      "execution_count": 54,
      "outputs": [
        {
          "output_type": "display_data",
          "data": {
            "text/plain": [
              "<Figure size 1000x700 with 1 Axes>"
            ],
            "image/png": "[encoded data removed]"
          },
          "metadata": {}
        }
      ]
    },
    {
      "cell_type": "markdown",
      "source": [
        "#Train model\n",
        "\n",
        "THe whole idea of training us for a model to move from some unknown parameters(these may be random) to some known nn.parameter\n",
        "\n",
        "Or in other words from a poor represention of the dat to a better representation of the data"
      ],
      "metadata": {
        "id": "xC-t3YD_1gvc"
      }
    },
    {
      "cell_type": "code",
      "source": [],
      "metadata": {
        "id": "oq333K6K6bvu"
      },
      "execution_count": null,
      "outputs": []
    }
  ]
}